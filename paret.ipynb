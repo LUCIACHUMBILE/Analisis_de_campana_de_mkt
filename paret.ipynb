{
 "cells": [
  {
   "cell_type": "code",
   "execution_count": 1,
   "metadata": {},
   "outputs": [],
   "source": [
    "def diagrama_pareto(data, frecuencia, categoria):\n",
    "    # Ordenar data\n",
    "    data.sort_values(by=frecuencia)\n",
    "\n",
    "    # Calcular la contribución acumulativo\n",
    "    total = sum(data[frecuencia])\n",
    "    porcentajes = [(frecuencia / total) *\n",
    "                   100 for frecuencia in data[frecuencia]]\n",
    "    porcentajes_acumulativos = [sum(porcentajes[:i+1])\n",
    "                                for i in range(len(porcentajes))]\n",
    "    # Crear el gráfico de Pareto\n",
    "    fig, ax1 = plt.subplots()\n",
    "    # Gráfico de barras\n",
    "    ax1.bar(data[categoria], data[frecuencia], color='b')\n",
    "    ax1.set_ylabel('Frecuencia', color='b')\n",
    "    # Crear el eje secundario para la línea acumulativa\n",
    "    ax2 = ax1.twinx()\n",
    "    ax2.plot(data[categoria], porcentajes_acumulativos,\n",
    "             color='r', marker='o', linestyle='-')\n",
    "    ax2.set_ylabel('Porcentaje acumulado (%)', color='r')\n",
    "    # Etiquetas y título\n",
    "    plt.title('Gráfico de Pareto')\n",
    "    plt.xticks(data[categoria])  # Ajustar las etiquetas del eje x\n",
    "    # Mostrar el gráfico\n",
    "    plt.show()"
   ]
  }
 ],
 "metadata": {
  "kernelspec": {
   "display_name": "gamesenv",
   "language": "python",
   "name": "python3"
  },
  "language_info": {
   "codemirror_mode": {
    "name": "ipython",
    "version": 3
   },
   "file_extension": ".py",
   "mimetype": "text/x-python",
   "name": "python",
   "nbconvert_exporter": "python",
   "pygments_lexer": "ipython3",
   "version": "3.12.2"
  }
 },
 "nbformat": 4,
 "nbformat_minor": 2
}
